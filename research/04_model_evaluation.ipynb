{
 "cells": [
  {
   "cell_type": "code",
   "execution_count": 6,
   "metadata": {},
   "outputs": [],
   "source": [
    "import os"
   ]
  },
  {
   "cell_type": "code",
   "execution_count": 7,
   "metadata": {},
   "outputs": [
    {
     "name": "stdout",
     "output_type": "stream",
     "text": [
      "/Users/amida/Downloads/Dev/DeepLearning/DL-Kidney-Disease-Classification\n"
     ]
    }
   ],
   "source": [
    "!pwd"
   ]
  },
  {
   "cell_type": "code",
   "execution_count": 8,
   "metadata": {},
   "outputs": [],
   "source": [
    "os.chdir(\"../\")"
   ]
  },
  {
   "cell_type": "code",
   "execution_count": 9,
   "metadata": {},
   "outputs": [
    {
     "name": "stdout",
     "output_type": "stream",
     "text": [
      "/Users/amida/Downloads/Dev/DeepLearning\n"
     ]
    }
   ],
   "source": [
    "!pwd"
   ]
  },
  {
   "cell_type": "markdown",
   "metadata": {},
   "source": [
    "#### Next Steps\n",
    "- connect mlflow url\n",
    "\n",
    "- run in terminal\n",
    "\n",
    "```\n",
    "        export MLFLOW_TRACKING_URI=https://dagshub.com/amida.ayiera/DL-Kidney-Disease-Classification.mlflow\n",
    "        export MLFLOW_TRACKING_USERNAME=amidayiera\n",
    "        export MLFLOW_TRACKING_PASSWORD=6824e424bada4f9847fb7f382c9ebac46b1e588f9f6a\n",
    "```\n"
   ]
  },
  {
   "cell_type": "code",
   "execution_count": 12,
   "metadata": {},
   "outputs": [],
   "source": [
    "## From Dagshub > Remote > Experiments > Using MLFlow Tracking\n",
    "\n",
    "# import dagshub\n",
    "# dagshub.init(repo_owner='amida.ayiera', repo_name='DL-Kidney-Disease-Classification', mlflow=True)\n",
    "\n",
    "# import mlflow\n",
    "# with mlflow.start_run():\n",
    "#   mlflow.log_param('parameter name', 'value')\n",
    "#   mlflow.log_metric('metric name', 1)"
   ]
  },
  {
   "cell_type": "code",
   "execution_count": 13,
   "metadata": {},
   "outputs": [],
   "source": [
    "os.environ[\"MLFLOW_TRACKING_URI\"]=\"https://dagshub.com/amida.ayiera/DL-Kidney-Disease-Classification.mlflow\"\n",
    "os.environ[\"MLFLOW_TRACKING_USERNAME\"]=\"amidayiera\"\n",
    "os.environ[\"MLFLOW_TRACKING_PASSWORD\"]=\"6824e424bada4f9847fb7f382c9ebac46b1e588f9f6a\""
   ]
  },
  {
   "cell_type": "markdown",
   "metadata": {},
   "source": [
    "run in terminal"
   ]
  },
  {
   "cell_type": "code",
   "execution_count": null,
   "metadata": {},
   "outputs": [],
   "source": [
    "MLFLOW_TRACKING_URI=https://dagshub.com/amida.ayiera/DL-Kidney-Disease-Classification.mlflow \\\n",
    "MLFLOW_TRACKING_USERNAME=amidayiera \\\n",
    "MLFLOW_TRACKING_PASSWORD=6824e424bada4f9847fb7f382c9ebac46b1e588f9f6a \\\n",
    "python script.py"
   ]
  },
  {
   "cell_type": "code",
   "execution_count": null,
   "metadata": {},
   "outputs": [],
   "source": []
  }
 ],
 "metadata": {
  "kernelspec": {
   "display_name": ".venv",
   "language": "python",
   "name": "python3"
  },
  "language_info": {
   "codemirror_mode": {
    "name": "ipython",
    "version": 3
   },
   "file_extension": ".py",
   "mimetype": "text/x-python",
   "name": "python",
   "nbconvert_exporter": "python",
   "pygments_lexer": "ipython3",
   "version": "3.8.3"
  }
 },
 "nbformat": 4,
 "nbformat_minor": 2
}
